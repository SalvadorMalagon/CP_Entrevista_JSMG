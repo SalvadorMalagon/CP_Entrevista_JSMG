{
 "cells": [
  {
   "cell_type": "code",
   "execution_count": 27,
   "metadata": {},
   "outputs": [],
   "source": [
    "import pandas as pd\n",
    "import matplotlib.pyplot as plt\n",
    "import os\n",
    "from itertools import combinations\n",
    "from collections import Counter\n",
    "import numpy as np\n",
    "import statistics as sts\n",
    "retval = os.getcwd()\n",
    "#print (\"current dir %s\" %retval)"
   ]
  },
  {
   "cell_type": "markdown",
   "metadata": {},
   "source": [
    "#### TABLAS : \n",
    "###### VIVIENDA // HOGAR // SOCIODEMOGRÁFICO // CUESTIONARIO 1 // CUESTIONARIO 2 (2017,2020) // LÍNEAS DE POBREZA POR INGRESOS"
   ]
  },
  {
   "cell_type": "code",
   "execution_count": 28,
   "metadata": {},
   "outputs": [
    {
     "name": "stderr",
     "output_type": "stream",
     "text": [
      "C:\\Users\\jsmg2\\anaconda3\\lib\\site-packages\\IPython\\core\\interactiveshell.py:3146: DtypeWarning: Columns (39,42) have mixed types.Specify dtype option on import or set low_memory=False.\n",
      "  has_raised = await self.run_ast_nodes(code_ast.body, cell_name,\n"
     ]
    }
   ],
   "source": [
    "df_v = pd.read_csv( r\"C:\\Users\\jsmg2\\Desktop\\INGOV\\datos\\ENOE\\ENOEN_2020_4t\\conjunto_de_datos_viv_enoen_2020_4t\\conjunto_de_datos\\conjunto_de_datos_viv_enoen_2020_4t.csv\",encoding='latin-1')\n",
    "#df_v     ## 160353 rows × 26 columns\n",
    "df_h = pd.read_csv( r\"C:\\Users\\jsmg2\\Desktop\\INGOV\\datos\\ENOE\\ENOEN_2020_4t\\conjunto_de_datos_hog_enoen_2020_4t\\conjunto_de_datos\\conjunto_de_datos_hog_enoen_2020_4t.csv\",encoding='latin-1')\n",
    "#df_h    ##  161220 rows × 37 columns\n",
    "df_s = pd.read_csv( r\"C:\\Users\\jsmg2\\Desktop\\INGOV\\datos\\ENOE\\ENOEN_2020_4t\\conjunto_de_datos_sdem_enoen_2020_4t\\conjunto_de_datos\\conjunto_de_datos_sdem_enoen_2020_4t.csv\",encoding='latin-1')\n",
    "#df_s    ##  356790 rows × 110 columns\n",
    "df_c1 = pd.read_csv( r\"C:\\Users\\jsmg2\\Desktop\\INGOV\\datos\\ENOE\\ENOEN_2020_4t\\conjunto_de_datos_coe1_enoen_2020_4t\\conjunto_de_datos\\conjunto_de_datos_coe1_enoen_2020_4t.csv\",encoding='latin-1')\n",
    "#df_c1    ## 287822 rows × 173 columns\n",
    "df_c2 = pd.read_csv( r\"C:\\Users\\jsmg2\\Desktop\\INGOV\\datos\\ENOE\\ENOEN_2020_4t\\conjunto_de_datos_coe2_enoen_2020_4t\\conjunto_de_datos\\conjunto_de_datos_coe2_enoen_2020_4t.csv\",encoding='latin-1')\n",
    "#df_c2    ## 287822 rows × 74 columns\n",
    "df_c2_2017 = pd.read_csv( r\"C:\\Users\\jsmg2\\Desktop\\INGOV\\datos\\ENOE\\ENOEN_2017_1t\\coe2t_enoe117\\conjunto_de_datos\\coe2t117.csv\",encoding='latin-1')\n",
    "#df_c2    ## 287822 rows × 74 columns\n",
    "df_lppi = pd.read_csv( \"C:/Users/jsmg2/Desktop/INGOV/datos/LINEAS DE BIENESTAR/LPPI/all_lppi.csv\",encoding='latin-1')\n"
   ]
  },
  {
   "cell_type": "markdown",
   "metadata": {},
   "source": [
    "### DROPPING VALUES QUE NO PERTENECEN A QRO"
   ]
  },
  {
   "cell_type": "code",
   "execution_count": 29,
   "metadata": {},
   "outputs": [],
   "source": [
    "df_v.drop(df_v[df_v['CD_A'] != 36].index, inplace = True)                  ### VIVIENDA\n",
    "#df_v  ## 2148 rows × 26 columns"
   ]
  },
  {
   "cell_type": "code",
   "execution_count": 30,
   "metadata": {},
   "outputs": [],
   "source": [
    "df_h.drop(df_h[df_h['CD_A'] != 36].index, inplace = True)                 ### HOGAR\n",
    "#df_h  ## 2169 rows × 37 columns"
   ]
  },
  {
   "cell_type": "code",
   "execution_count": 31,
   "metadata": {},
   "outputs": [],
   "source": [
    "df_s.drop(df_s[df_s['CD_A'] != 36].index, inplace = True)                 ### SOCIODEMOGRÁFICO\n",
    "#df_s  ## 5930 rows × 110 columns"
   ]
  },
  {
   "cell_type": "code",
   "execution_count": 32,
   "metadata": {},
   "outputs": [],
   "source": [
    "df_c1.drop(df_c1[df_c1['CD_A'] != 36].index, inplace = True)              ### CUESTIONARIO 1\n",
    "#df_c1  ## 4986 rows × 173 columns"
   ]
  },
  {
   "cell_type": "code",
   "execution_count": 33,
   "metadata": {},
   "outputs": [],
   "source": [
    "df_c2.drop(df_c2[df_c2['CD_A'] != 36].index, inplace = True)              ### CUESTIONARIO 2\n",
    "#df_c2  ## 4986 rows × 74 columns"
   ]
  },
  {
   "cell_type": "code",
   "execution_count": 34,
   "metadata": {},
   "outputs": [],
   "source": [
    "df_c2_2017.drop(df_c2_2017[df_c2_2017['CD_A'] != 36].index, inplace = True)              ### CUESTIONARIO 2 2017\n",
    "#df_c2  ## 4986 rows × 74 columns"
   ]
  },
  {
   "cell_type": "markdown",
   "metadata": {},
   "source": [
    "### CAMPOS INTER-RELACIONADOS"
   ]
  },
  {
   "cell_type": "code",
   "execution_count": 35,
   "metadata": {},
   "outputs": [],
   "source": [
    "## TABLA VIVIENDA\n",
    "entidad_v = len(df_v['ENT'].unique()) ##Entidad 22, hace referencia a Querétaro\n",
    "control_v = len(df_v['CON'].unique()) ##\n",
    "vivienda_seleccionada_v = len(df_v['V_SEL'].unique())\n",
    "#print(entidad_v, control_v, vivienda_seleccionada_v)"
   ]
  },
  {
   "cell_type": "code",
   "execution_count": 36,
   "metadata": {},
   "outputs": [],
   "source": [
    "## TABLA hogar\n",
    "entidad_h = len(df_h['ENT'].unique()) ##Entidad 22, hace referencia a Querétaro\n",
    "control_h = len(df_h['CON'].unique()) ##\n",
    "vivienda_seleccionada_h = len(df_v['V_SEL'].unique())         ## 1-5\n",
    "hogar_h = len(df_h['N_HOG'].unique()) ## Hogar dentro de vivieno  1-6\n",
    "muda_h = len(df_h['H_MUD'].unique()) ## Veces que se ha mudado  0-2\n",
    "entrevista_completa_h = len(df_h['R_DEF'].unique()) ## Veces que se ha mudado  0-2\n",
    "#print(entidad_h, control_h, vivienda_seleccionada_h, hogar_h, muda_h, entrevista_completa_h)"
   ]
  },
  {
   "cell_type": "code",
   "execution_count": 37,
   "metadata": {},
   "outputs": [],
   "source": [
    "## TABLA sociodomografico\n",
    "entidad_s = len(df_s['ENT'].unique()) ##Entidad 22, hace referencia a Querétaro\n",
    "control_s = len(df_s['CON'].unique()) ##\n",
    "vivienda_seleccionada_s = len(df_s['V_SEL'].unique())         ## 1-5\n",
    "hogar_s = len(df_s['N_HOG'].unique()) ## Hogar dentro de vivieno  1-6\n",
    "muda_s = len(df_s['H_MUD'].unique()) ## Veces que se ha mudado  0-2\n",
    "renglon_s = len(df_s['N_REN'].unique()) ## Veces que se ha mudado  1-13\n",
    "#print(entidad_s, control_s, vivienda_seleccionada_s, hogar_s, muda_s, renglon_s)"
   ]
  },
  {
   "cell_type": "code",
   "execution_count": 38,
   "metadata": {},
   "outputs": [],
   "source": [
    "## TABLA cuestionario 1\n",
    "entidad_c1 = len(df_c1['ENT'].unique()) ##Entidad 22, hace referencia a Querétaro\n",
    "control_c1 = len(df_c1['CON'].unique()) ##\n",
    "vivienda_seleccionada_c1 = len(df_c1['V_SEL'].unique())         ## 1-5\n",
    "hogar_c1 = len(df_c1['N_HOG'].unique()) ## Hogar dentro de vivieno  1-6\n",
    "muda_c1 = len(df_c1['H_MUD'].unique()) ## Veces que se ha mudado  0-2\n",
    "renglon_c1 = len(df_c1['N_REN'].unique()) ## Veces que se ha mudado  1-13\n",
    "#print(entidad_c1, control_c1, vivienda_seleccionada_c1, hogar_c1, muda_c1, renglon_c1)"
   ]
  },
  {
   "cell_type": "code",
   "execution_count": 39,
   "metadata": {},
   "outputs": [],
   "source": [
    "## TABLA cuestionario 2\n",
    "entidad_c2 = len(df_c2['ENT'].unique()) ##Entidad 22, hace referencia a Querétaro\n",
    "control_c2 = len(df_c2['CON'].unique()) ##\n",
    "vivienda_seleccionada_c2 = len(df_c2['V_SEL'].unique())         ## 1-5\n",
    "hogar_c2 = len(df_c2['N_HOG'].unique()) ## Hogar dentro de vivieno  1-6\n",
    "muda_c2 = len(df_c2['H_MUD'].unique()) ## Veces que se ha mudado  0-2\n",
    "renglon_c2 = len(df_c2['N_REN'].unique()) ## Veces que se ha mudado  1-13\n",
    "#print(entidad_c2, control_c2, vivienda_seleccionada_c2, hogar_c2, muda_c2, renglon_c2)"
   ]
  },
  {
   "cell_type": "markdown",
   "metadata": {},
   "source": [
    "### ENTREVISTAS COMPLETAS"
   ]
  },
  {
   "cell_type": "code",
   "execution_count": 40,
   "metadata": {},
   "outputs": [],
   "source": [
    "df_h.drop(df_h[df_h['R_DEF'] != 0].index, inplace = True)                 ### HOGAR\n",
    "#df_h  ## 2169 rows × 37 columns  ---> 1771 rows × 37 columns"
   ]
  },
  {
   "cell_type": "markdown",
   "metadata": {},
   "source": [
    "### RESIDENTE HABITUAL O NUEVO"
   ]
  },
  {
   "cell_type": "code",
   "execution_count": 41,
   "metadata": {},
   "outputs": [],
   "source": [
    "df_s.drop(df_s[df_s['C_RES'] == 2].index, inplace = True)                 ### SOCIODEMOGRÁFICO\n",
    "#df_s  ## 5930 rows × 110 columns  ----> 5829 rows × 110 columns"
   ]
  },
  {
   "cell_type": "markdown",
   "metadata": {},
   "source": [
    "### RESIDENTE MAYOR DE 12 AÑOS"
   ]
  },
  {
   "cell_type": "code",
   "execution_count": 42,
   "metadata": {},
   "outputs": [],
   "source": [
    "df_s.drop(df_s[df_s['EDA'] <= 11].index, inplace = True)                 ### SOCIODEMOGRÁFICO\n",
    "#df_s  ## 5930 rows × 110 columns  ---- > 4989 rows × 110 columns"
   ]
  },
  {
   "cell_type": "markdown",
   "metadata": {},
   "source": [
    "### NÚMERO DE RESIDENTES POR CASA"
   ]
  },
  {
   "cell_type": "code",
   "execution_count": 43,
   "metadata": {},
   "outputs": [],
   "source": [
    "df_v = df_v.dropna(subset=['P1'])\n",
    "control_1 = df_v['CON'].unique()\n",
    "#control_1.shape\n",
    "control_2 = df_c2['CON'].unique()\n",
    "#control_2.shape\n",
    "contador=0\n",
    "\n",
    "for x in control_1:\n",
    "    for y in control_2:\n",
    "        if x == y:\n",
    "            contador+=1\n",
    "            #print(y)\n",
    "        else:\n",
    "            no_incluido=x\n",
    "            #print(x)\n",
    "\n",
    "df_c2.drop(df_c2[df_c2['CON'] == no_incluido].index, inplace = True)             \n",
    "df_v.drop(df_v[df_v['CON'] == no_incluido].index, inplace = True)   "
   ]
  },
  {
   "cell_type": "markdown",
   "metadata": {},
   "source": [
    "### FACTOR DE EXPANCIÓN"
   ]
  },
  {
   "cell_type": "code",
   "execution_count": 44,
   "metadata": {},
   "outputs": [],
   "source": [
    "FAC_TRI=df_c2['FAC_TRI']               ### CUESTIONARIO 2\n",
    "FAC_MEN=df_c2['FAC_MEN']  \n",
    "FAC=df_c2_2017['FAC'] \n",
    "df_c2=df_c2.dropna(subset=['P6B2'])\n",
    "df_c2_2017=df_c2_2017.dropna(subset=['P6B2'])"
   ]
  },
  {
   "cell_type": "markdown",
   "metadata": {},
   "source": [
    "### INGRESO LABORAL"
   ]
  },
  {
   "cell_type": "code",
   "execution_count": 45,
   "metadata": {},
   "outputs": [],
   "source": [
    "pobl_muestra=df_c2['FAC_TRI'].sum()\n",
    "pers=df_v['P1'].unique()\n",
    "re_pro=pers.mean()\n",
    "df_c2['porcentaje_poblacional']= (df_c2['FAC_TRI']*100)/pobl_muestra\n",
    "df_c2['ingreso_laboral_PP']= df_c2['P6B2']/re_pro\n"
   ]
  },
  {
   "cell_type": "markdown",
   "metadata": {},
   "source": [
    "### INGRESO EXPANDIDO"
   ]
  },
  {
   "cell_type": "code",
   "execution_count": 46,
   "metadata": {},
   "outputs": [],
   "source": [
    "df_c2['Ingreso_Expandido_TRI'] = df_c2['P6B2']*df_c2['FAC_TRI']\n",
    "df_c2['Ingreso_Expandido_MEN'] = df_c2['P6B2']*df_c2['FAC_MEN']\n",
    "df_c2_2017['Ingreso_Expandido_2017'] = df_c2_2017['P6B2']*df_c2_2017['FAC']\n"
   ]
  },
  {
   "cell_type": "markdown",
   "metadata": {},
   "source": [
    "### INGRESO PER CÁPITA (IPC)"
   ]
  },
  {
   "cell_type": "code",
   "execution_count": 47,
   "metadata": {},
   "outputs": [],
   "source": [
    "suma_MEN=sum(df_c2['Ingreso_Expandido_MEN'])\n",
    "suma_FAC=sum(df_c2_2017['Ingreso_Expandido_2017'])\n",
    "poblacion_2017=2038372\n",
    "poblacion_2020=2368467\n",
    "ipc_2t_2015=1597.43\n",
    "ipc_2017=suma_FAC/poblacion_2017\n",
    "ipc_1t_2020=2022.13\n",
    "ipc_3t_2020=1730.97\n",
    "ipc_4t_2020=suma_MEN/poblacion_2020\n"
   ]
  },
  {
   "cell_type": "markdown",
   "metadata": {},
   "source": [
    "### GRAFICACIÓN DE INGRESO LABORAL PER CÁPITA "
   ]
  },
  {
   "cell_type": "code",
   "execution_count": 54,
   "metadata": {},
   "outputs": [
    {
     "data": {
      "text/plain": [
       "(1000.0, 2300.0)"
      ]
     },
     "execution_count": 54,
     "metadata": {},
     "output_type": "execute_result"
    },
    {
     "data": {
      "image/png": "[encoded data removed]",
      "text/plain": [
       "<Figure size 1152x576 with 1 Axes>"
      ]
     },
     "metadata": {
      "needs_background": "light"
     },
     "output_type": "display_data"
    }
   ],
   "source": [
    "import matplotlib.pyplot as plt\n",
    "from matplotlib.ticker import StrMethodFormatter\n",
    "fig = plt.figure(figsize=(16, 8))\n",
    "ax = plt.axes()\n",
    "x=np.linspace(0,72,72)\n",
    "plt.title('Ingreso Laboral Per Cápita (IPC) Y LINEA DE POBREZA EXTREMA, QUERÉTARO')\n",
    "linea=[1597.43,2022.13,1730.97,1965.64]\n",
    "xlinea=[6,63,69,72]\n",
    "linea2=[1730.97,1965.64]\n",
    "xlinea2=[69,72]\n",
    "LPEI_rural=df_lppi['LPEI rural']\n",
    "LPEI_urbano=df_lppi['LPEI urbano']\n",
    "ax.plot(xlinea,linea,color='blue',marker='p',linewidth=3, label= \"Ingreso Laboral Per Cápita CONEVAL\")\n",
    "ax.plot(x,LPEI_urbano,color='orange',marker='o',linewidth=3, label= \"Línea de Pobreza Extrema Urbana\")\n",
    "ax.plot(xlinea2,linea2,color='green',marker='p',linewidth=3, label= \"Ingreso Laboral Per Cápita GENERADO\")\n",
    "plt.xticks([ 12, 24, 36, 48, 60, 72, ],[\"DIC\\n2015\",\"DIC\\n2016\",\"DIC\\n2017\",\"DIC\\n2018\",\"DIC\\n2019\",\"DIC\\n2020\",])\n",
    "plt.annotate('IPC=\\n1597.43', xy=(6,ipc_2t_2015+10), xytext=(2,ipc_2t_2015))\n",
    "plt.annotate('IPC=\\n2022.13', xy=(63,ipc_1t_2020+10), xytext=(59,ipc_1t_2020+50))\n",
    "plt.annotate('IPC=\\n1730.97', xy=(69,ipc_3t_2020+10), xytext=(64,ipc_3t_2020))\n",
    "plt.annotate('IPC=\\n1965.64', xy=(72,ipc_4t_2020+10), xytext=(69,ipc_4t_2020+50))\n",
    "plt.annotate('COVID-19', xy=(63,1100), xytext=(63.5,1100))\n",
    "plt.annotate('Inicio de \\nAdministración', xy=(6.5,1100), xytext=(6.5,1100))\n",
    "plt.axvline(x=63, color='purple', linewidth=2.0, linestyle='--') \n",
    "plt.axvline(x=6, color='c', linewidth=2.0, linestyle='--') \n",
    "plt.ylabel('Pesos')\n",
    "plt.legend(frameon=False,loc='upper center',ncol=1)\n",
    "plt.grid()\n",
    "plt.ylim([1000, 2300])"
   ]
  },
  {
   "cell_type": "markdown",
   "metadata": {},
   "source": [
    "### PERSONAS DEBAJO DE LPE"
   ]
  },
  {
   "cell_type": "code",
   "execution_count": 49,
   "metadata": {},
   "outputs": [],
   "source": [
    "df_c2.drop(df_c2[df_c2['ingreso_laboral_PP'] >= 1201.87].index, inplace = True)              ### CUESTIONARIO 2\n",
    "#df_c2['porcentaje_poblacional'].sum()"
   ]
  },
  {
   "cell_type": "code",
   "execution_count": 50,
   "metadata": {},
   "outputs": [],
   "source": [
    "df2 = pd.DataFrame(np.array([[2038300, 1597.43, 1275.98, 35.5], [2368467, 2022.13, 1632.51, 34.2],[2368467, 1730.97, 1681.61, 42.4], [2368467, 1965.64, 1666.24, 58.4]]),\n",
    "                   columns=['Poblacion','IPC', 'LPE', 'PPDLPE'])\n",
    "df2['Personas DLP'] = df2['Poblacion']*(df2['PPDLPE']/100)\n",
    "df2['Personas SLP'] = df2['Poblacion']-df2['Personas DLP']\n"
   ]
  },
  {
   "cell_type": "markdown",
   "metadata": {},
   "source": [
    "### GRAFICACIÓN DE PORCENTAJE DE PERSONAS DEBAJO DE LA LÍNEA DE POBREZA EXTREMA"
   ]
  },
  {
   "cell_type": "code",
   "execution_count": 55,
   "metadata": {},
   "outputs": [
    {
     "data": {
      "image/png": "[encoded data removed]",
      "text/plain": [
       "<Figure size 1152x576 with 1 Axes>"
      ]
     },
     "metadata": {
      "needs_background": "light"
     },
     "output_type": "display_data"
    }
   ],
   "source": [
    "fig = plt.figure(figsize=(16, 8))\n",
    "data = [[ 35.5, 34.2,  42.4, 58.4], [ 64.5, 65.8,  57.6,  41.6],]\n",
    "columns = ('2t_2015','1t_2020','3t_2020','4t_2020')\n",
    "rows = ['Habitanes Sobre LPE', 'Habitanes Debajo LPE']\n",
    "values = np.arange(0, 110, 10)\n",
    "value_increment = 1\n",
    "colors = plt.cm.Set1(np.linspace(0, 0.5, len(rows)))\n",
    "n_rows = len(data)\n",
    "index = np.arange(len(columns)) + 0.3\n",
    "bar_width = 0.9\n",
    "from  matplotlib.ticker import FuncFormatter\n",
    "y_offset = np.zeros(len(columns))\n",
    "cell_text = []\n",
    "\n",
    "for row in range(n_rows):\n",
    "    plt.bar(index, data[row], bar_width, bottom=y_offset, color=colors[row])\n",
    "    y_offset = y_offset + data[row]\n",
    "    cell_text.append(['%1.1f' % (x / 1.0) for x in y_offset])\n",
    "\n",
    "    \n",
    "colors = colors[::-1]\n",
    "cell_text.reverse()\n",
    "plt.subplots_adjust(left=0.4, bottom=0.2)\n",
    "plt.ylabel(\"Porcentaje de Población\".format(value_increment))\n",
    "plt.yticks(values * value_increment, ['%d' % val for val in values])\n",
    "plt.xticks([.3,1.3,2.3,3.3],['Inicio de \\nAdministración\\n3t_2020','Previo a \\nCOVID_19\\n1t_2020','Última\\nPublicacíon\\nCONEVAL\\n3t_2020','Estimación\\nde\\n4t_2020'])\n",
    "plt.title('Población [en rojo] \\ndebajo de la Línea de Pobreza Extrema')\n",
    "plt.grid(True)\n",
    "plt.show()"
   ]
  },
  {
   "cell_type": "code",
   "execution_count": null,
   "metadata": {},
   "outputs": [],
   "source": []
  }
 ],
 "metadata": {
  "kernelspec": {
   "display_name": "Python 3",
   "language": "python",
   "name": "python3"
  },
  "language_info": {
   "codemirror_mode": {
    "name": "ipython",
    "version": 3
   },
   "file_extension": ".py",
   "mimetype": "text/x-python",
   "name": "python",
   "nbconvert_exporter": "python",
   "pygments_lexer": "ipython3",
   "version": "3.8.5"
  }
 },
 "nbformat": 4,
 "nbformat_minor": 4
}
